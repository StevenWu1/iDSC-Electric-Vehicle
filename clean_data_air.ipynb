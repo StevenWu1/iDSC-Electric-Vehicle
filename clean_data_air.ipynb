{
 "cells": [
  {
   "cell_type": "code",
   "execution_count": 75,
   "metadata": {},
   "outputs": [],
   "source": [
    "import pandas as pd\n",
    "import matplotlib.pyplot as plt"
   ]
  },
  {
   "cell_type": "code",
   "execution_count": 76,
   "metadata": {},
   "outputs": [
    {
     "data": {
      "text/plain": [
       "Index(['WHO Region', 'ISO3', 'WHO Country Name', 'City or Locality',\n",
       "       'Measurement Year', 'PM2.5 (μg/m3)', 'PM10 (μg/m3)', 'NO2 (μg/m3)',\n",
       "       'PM25 temporal coverage (%)', 'PM10 temporal coverage (%)',\n",
       "       'NO2 temporal coverage (%)', 'Reference',\n",
       "       'Number and type of monitoring stations', 'Version of the database',\n",
       "       'Status', 'Unnamed: 15', 'Unnamed: 16'],\n",
       "      dtype='object')"
      ]
     },
     "execution_count": 76,
     "metadata": {},
     "output_type": "execute_result"
    }
   ],
   "source": [
    "air_quality = pd.read_csv(\"air_quality.csv\")\n",
    "air_quality.columns"
   ]
  },
  {
   "cell_type": "code",
   "execution_count": 77,
   "metadata": {},
   "outputs": [],
   "source": [
    "air_quality = air_quality.replace(to_replace='Czechia', value='Czech Republic')\n",
    "air_quality = air_quality.replace(to_replace='Republic of Korea', value='Korea')\n",
    "air_quality = air_quality.replace(to_replace='Turkey', value='Turkiye')\n",
    "air_quality = air_quality.replace(to_replace='United States of America', value='USA')"
   ]
  },
  {
   "cell_type": "code",
   "execution_count": 78,
   "metadata": {},
   "outputs": [],
   "source": [
    "air_quality = air_quality.drop(columns=['WHO Region', 'ISO3', 'Reference', 'Number and type of monitoring stations', 'Version of the database',\n",
    "       'Status', 'Unnamed: 15', 'Unnamed: 16'])"
   ]
  },
  {
   "cell_type": "code",
   "execution_count": 79,
   "metadata": {},
   "outputs": [],
   "source": [
    "pm2_5 = air_quality.drop(columns = ['PM10 (μg/m3)', 'NO2 (μg/m3)', 'PM10 temporal coverage (%)', 'NO2 temporal coverage (%)'])\n",
    "pm10 = air_quality.drop(columns = ['PM2.5 (μg/m3)', 'NO2 (μg/m3)', 'PM25 temporal coverage (%)', 'NO2 temporal coverage (%)'])\n",
    "no2 = air_quality.drop(columns = ['PM2.5 (μg/m3)', 'PM10 (μg/m3)', 'PM25 temporal coverage (%)', 'PM10 temporal coverage (%)'])"
   ]
  },
  {
   "cell_type": "code",
   "execution_count": 80,
   "metadata": {},
   "outputs": [
    {
     "data": {
      "text/plain": [
       "24916"
      ]
     },
     "execution_count": 80,
     "metadata": {},
     "output_type": "execute_result"
    }
   ],
   "source": [
    "pm2_5['PM25 temporal coverage (%)'].isna().sum()"
   ]
  },
  {
   "cell_type": "code",
   "execution_count": 81,
   "metadata": {},
   "outputs": [],
   "source": [
    "pm2_5_clean = pm2_5.dropna(subset=[\"PM2.5 (μg/m3)\"])"
   ]
  },
  {
   "cell_type": "code",
   "execution_count": 82,
   "metadata": {},
   "outputs": [],
   "source": [
    "air_regions = (pm2_5_clean[\"WHO Country Name\"].unique())"
   ]
  },
  {
   "cell_type": "code",
   "execution_count": 83,
   "metadata": {},
   "outputs": [],
   "source": [
    "ev = pd.read_csv(\"cleaned_ev.csv\")"
   ]
  },
  {
   "cell_type": "code",
   "execution_count": 84,
   "metadata": {},
   "outputs": [],
   "source": [
    "ev_regions = ev['region'].unique()"
   ]
  },
  {
   "cell_type": "code",
   "execution_count": 85,
   "metadata": {},
   "outputs": [
    {
     "data": {
      "text/plain": [
       "array(['Australia', 'Austria', 'Belgium', 'Brazil', 'Canada', 'China',\n",
       "       'Colombia', 'Czech Republic', 'Denmark', 'EU27', 'Europe',\n",
       "       'Finland', 'France', 'Germany', 'Greece', 'Hungary', 'Iceland',\n",
       "       'India', 'Ireland', 'Israel', 'Italy', 'Japan', 'Korea',\n",
       "       'Luxembourg', 'Mexico', 'Netherlands', 'New Zealand', 'Norway',\n",
       "       'Poland', 'Portugal', 'Rest of the world', 'Romania', 'Slovakia',\n",
       "       'Slovenia', 'Spain', 'Sweden', 'Switzerland', 'Turkiye',\n",
       "       'United Arab Emirates', 'United Kingdom', 'USA', 'World'],\n",
       "      dtype=object)"
      ]
     },
     "execution_count": 85,
     "metadata": {},
     "output_type": "execute_result"
    }
   ],
   "source": [
    "ev_regions"
   ]
  },
  {
   "cell_type": "code",
   "execution_count": 86,
   "metadata": {},
   "outputs": [
    {
     "data": {
      "text/plain": [
       "array(['Afghanistan', 'Albania', 'United Arab Emirates', 'Argentina',\n",
       "       'Australia', 'Austria', 'Belgium', 'Bangladesh', 'Bulgaria',\n",
       "       'Bahrain', 'Bahamas', 'Bosnia and Herzegovina', 'Brazil', 'Canada',\n",
       "       'Switzerland', 'Chile', 'China', 'Cameroon', 'Colombia',\n",
       "       'Costa Rica', 'Cuba', 'Cyprus', 'Czech Republic', 'Germany',\n",
       "       'Denmark', 'Algeria', 'Ecuador', 'Spain', 'Estonia', 'Ethiopia',\n",
       "       'Finland', 'Fiji', 'France', 'United Kingdom', 'Georgia', 'Ghana',\n",
       "       'Greece', 'Guatemala', 'Honduras', 'Croatia', 'Hungary',\n",
       "       'Indonesia', 'India', 'Ireland', 'Iran (Islamic Republic of)',\n",
       "       'Iraq', 'Iceland', 'Israel', 'Italy', 'Jordan', 'Japan',\n",
       "       'Kazakhstan', 'Kenya', 'Kyrgyzstan', 'Korea', 'Kuwait',\n",
       "       \"Lao People's Democratic Republic\", 'Lebanon', 'Sri Lanka',\n",
       "       'Lithuania', 'Luxembourg', 'Latvia', 'Madagascar', 'Mexico',\n",
       "       'North Macedonia', 'Malta', 'Myanmar', 'Mongolia', 'Malaysia',\n",
       "       'Nigeria', 'Netherlands', 'Norway', 'Nepal', 'New Zealand',\n",
       "       'Pakistan', 'Panama', 'Peru', 'Philippines', 'Poland', 'Portugal',\n",
       "       'Paraguay', 'Qatar', 'Romania', 'Russian Federation',\n",
       "       'Saudi Arabia', 'Senegal', 'Singapore', 'El Salvador', 'Serbia',\n",
       "       'Slovakia', 'Slovenia', 'Sweden', 'Thailand', 'Tajikistan',\n",
       "       'Turkmenistan', 'Trinidad and Tobago', 'Turkiye',\n",
       "       'United Republic of Tanzania', 'Uganda', 'Ukraine', 'Uruguay',\n",
       "       'USA', 'Uzbekistan', 'Venezuela (Bolivarian Republic of)',\n",
       "       'Viet Nam', 'South Africa'], dtype=object)"
      ]
     },
     "execution_count": 86,
     "metadata": {},
     "output_type": "execute_result"
    }
   ],
   "source": [
    "air_regions"
   ]
  },
  {
   "cell_type": "code",
   "execution_count": 87,
   "metadata": {},
   "outputs": [],
   "source": [
    "all_regions = []\n",
    "for regions in air_regions:\n",
    "    if (regions in ev_regions):\n",
    "        all_regions.append(regions)\n",
    "\n",
    "notin_air = []\n",
    "for regions in ev_regions:\n",
    "    if (regions not in air_regions):\n",
    "        notin_air.append(regions)"
   ]
  },
  {
   "cell_type": "code",
   "execution_count": 88,
   "metadata": {},
   "outputs": [
    {
     "data": {
      "text/plain": [
       "38"
      ]
     },
     "execution_count": 88,
     "metadata": {},
     "output_type": "execute_result"
    }
   ],
   "source": [
    "len(all_regions)"
   ]
  },
  {
   "cell_type": "code",
   "execution_count": 89,
   "metadata": {},
   "outputs": [
    {
     "data": {
      "text/plain": [
       "['EU27', 'Europe', 'Rest of the world', 'World']"
      ]
     },
     "execution_count": 89,
     "metadata": {},
     "output_type": "execute_result"
    }
   ],
   "source": [
    "notin_air"
   ]
  },
  {
   "cell_type": "code",
   "execution_count": null,
   "metadata": {},
   "outputs": [],
   "source": []
  }
 ],
 "metadata": {
  "kernelspec": {
   "display_name": "Python 3",
   "language": "python",
   "name": "python3"
  },
  "language_info": {
   "codemirror_mode": {
    "name": "ipython",
    "version": 3
   },
   "file_extension": ".py",
   "mimetype": "text/x-python",
   "name": "python",
   "nbconvert_exporter": "python",
   "pygments_lexer": "ipython3",
   "version": "3.12.4"
  },
  "orig_nbformat": 4
 },
 "nbformat": 4,
 "nbformat_minor": 2
}
