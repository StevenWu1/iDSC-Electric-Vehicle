{
 "cells": [
  {
   "cell_type": "code",
   "execution_count": 118,
   "metadata": {},
   "outputs": [],
   "source": [
    "import pandas as pd\n",
    "import matplotlib.pyplot as plt"
   ]
  },
  {
   "cell_type": "code",
   "execution_count": 119,
   "metadata": {},
   "outputs": [
    {
     "data": {
      "text/plain": [
       "Index(['WHO Region', 'ISO3', 'WHO Country Name', 'City or Locality',\n",
       "       'Measurement Year', 'PM2.5 (μg/m3)', 'PM10 (μg/m3)', 'NO2 (μg/m3)',\n",
       "       'PM25 temporal coverage (%)', 'PM10 temporal coverage (%)',\n",
       "       'NO2 temporal coverage (%)', 'Reference',\n",
       "       'Number and type of monitoring stations', 'Version of the database',\n",
       "       'Status', 'Unnamed: 15', 'Unnamed: 16'],\n",
       "      dtype='object')"
      ]
     },
     "execution_count": 119,
     "metadata": {},
     "output_type": "execute_result"
    }
   ],
   "source": [
    "air_quality = pd.read_csv(\"air_quality.csv\")\n",
    "air_quality.columns"
   ]
  },
  {
   "cell_type": "code",
   "execution_count": 120,
   "metadata": {},
   "outputs": [],
   "source": [
    "air_quality = air_quality.replace(to_replace='Czechia', value='Czech Republic')\n",
    "air_quality = air_quality.replace(to_replace='Republic of Korea', value='Korea')\n",
    "air_quality = air_quality.replace(to_replace='Turkey', value='Turkiye')\n",
    "air_quality = air_quality.replace(to_replace='United States of America', value='USA')"
   ]
  },
  {
   "cell_type": "code",
   "execution_count": 121,
   "metadata": {},
   "outputs": [],
   "source": [
    "air_quality = air_quality.drop(columns=['WHO Region', 'ISO3', 'Reference', 'Number and type of monitoring stations', 'Version of the database',\n",
    "       'Status', 'Unnamed: 15', 'Unnamed: 16'])"
   ]
  },
  {
   "cell_type": "code",
   "execution_count": 122,
   "metadata": {},
   "outputs": [],
   "source": [
    "pm2_5 = air_quality.drop(columns = ['PM10 (μg/m3)', 'NO2 (μg/m3)', 'PM10 temporal coverage (%)', 'NO2 temporal coverage (%)'])\n",
    "pm10 = air_quality.drop(columns = ['PM2.5 (μg/m3)', 'NO2 (μg/m3)', 'PM25 temporal coverage (%)', 'NO2 temporal coverage (%)'])\n",
    "no2 = air_quality.drop(columns = ['PM2.5 (μg/m3)', 'PM10 (μg/m3)', 'PM25 temporal coverage (%)', 'PM10 temporal coverage (%)'])"
   ]
  },
  {
   "cell_type": "code",
   "execution_count": 123,
   "metadata": {},
   "outputs": [
    {
     "data": {
      "text/plain": [
       "24916"
      ]
     },
     "execution_count": 123,
     "metadata": {},
     "output_type": "execute_result"
    }
   ],
   "source": [
    "pm2_5['PM25 temporal coverage (%)'].isna().sum()"
   ]
  },
  {
   "cell_type": "code",
   "execution_count": 124,
   "metadata": {},
   "outputs": [],
   "source": [
    "pm2_5_clean = pm2_5.dropna(subset=[\"PM2.5 (μg/m3)\"])"
   ]
  },
  {
   "cell_type": "code",
   "execution_count": 125,
   "metadata": {},
   "outputs": [],
   "source": [
    "air_regions = (pm2_5_clean[\"WHO Country Name\"].unique())"
   ]
  },
  {
   "cell_type": "code",
   "execution_count": 126,
   "metadata": {},
   "outputs": [],
   "source": [
    "ev = pd.read_csv(\"cleaned_ev.csv\")"
   ]
  },
  {
   "cell_type": "code",
   "execution_count": 127,
   "metadata": {},
   "outputs": [],
   "source": [
    "ev_regions = ev['region'].unique()"
   ]
  },
  {
   "cell_type": "code",
   "execution_count": 128,
   "metadata": {},
   "outputs": [
    {
     "data": {
      "text/plain": [
       "array(['Australia', 'Austria', 'Belgium', 'Brazil', 'Canada', 'China',\n",
       "       'Colombia', 'Czech Republic', 'Denmark', 'Finland', 'France',\n",
       "       'Germany', 'Greece', 'Hungary', 'Iceland', 'India', 'Ireland',\n",
       "       'Israel', 'Italy', 'Japan', 'Korea', 'Luxembourg', 'Mexico',\n",
       "       'Netherlands', 'New Zealand', 'Norway', 'Poland', 'Portugal',\n",
       "       'Romania', 'Slovakia', 'Slovenia', 'Spain', 'Sweden',\n",
       "       'Switzerland', 'Turkiye', 'United Arab Emirates', 'United Kingdom',\n",
       "       'USA'], dtype=object)"
      ]
     },
     "execution_count": 128,
     "metadata": {},
     "output_type": "execute_result"
    }
   ],
   "source": [
    "ev_regions"
   ]
  },
  {
   "cell_type": "code",
   "execution_count": 129,
   "metadata": {},
   "outputs": [
    {
     "data": {
      "text/plain": [
       "array(['Afghanistan', 'Albania', 'United Arab Emirates', 'Argentina',\n",
       "       'Australia', 'Austria', 'Belgium', 'Bangladesh', 'Bulgaria',\n",
       "       'Bahrain', 'Bahamas', 'Bosnia and Herzegovina', 'Brazil', 'Canada',\n",
       "       'Switzerland', 'Chile', 'China', 'Cameroon', 'Colombia',\n",
       "       'Costa Rica', 'Cuba', 'Cyprus', 'Czech Republic', 'Germany',\n",
       "       'Denmark', 'Algeria', 'Ecuador', 'Spain', 'Estonia', 'Ethiopia',\n",
       "       'Finland', 'Fiji', 'France', 'United Kingdom', 'Georgia', 'Ghana',\n",
       "       'Greece', 'Guatemala', 'Honduras', 'Croatia', 'Hungary',\n",
       "       'Indonesia', 'India', 'Ireland', 'Iran (Islamic Republic of)',\n",
       "       'Iraq', 'Iceland', 'Israel', 'Italy', 'Jordan', 'Japan',\n",
       "       'Kazakhstan', 'Kenya', 'Kyrgyzstan', 'Korea', 'Kuwait',\n",
       "       \"Lao People's Democratic Republic\", 'Lebanon', 'Sri Lanka',\n",
       "       'Lithuania', 'Luxembourg', 'Latvia', 'Madagascar', 'Mexico',\n",
       "       'North Macedonia', 'Malta', 'Myanmar', 'Mongolia', 'Malaysia',\n",
       "       'Nigeria', 'Netherlands', 'Norway', 'Nepal', 'New Zealand',\n",
       "       'Pakistan', 'Panama', 'Peru', 'Philippines', 'Poland', 'Portugal',\n",
       "       'Paraguay', 'Qatar', 'Romania', 'Russian Federation',\n",
       "       'Saudi Arabia', 'Senegal', 'Singapore', 'El Salvador', 'Serbia',\n",
       "       'Slovakia', 'Slovenia', 'Sweden', 'Thailand', 'Tajikistan',\n",
       "       'Turkmenistan', 'Trinidad and Tobago', 'Turkiye',\n",
       "       'United Republic of Tanzania', 'Uganda', 'Ukraine', 'Uruguay',\n",
       "       'USA', 'Uzbekistan', 'Venezuela (Bolivarian Republic of)',\n",
       "       'Viet Nam', 'South Africa'], dtype=object)"
      ]
     },
     "execution_count": 129,
     "metadata": {},
     "output_type": "execute_result"
    }
   ],
   "source": [
    "air_regions"
   ]
  },
  {
   "cell_type": "code",
   "execution_count": 130,
   "metadata": {},
   "outputs": [],
   "source": [
    "all_regions = []\n",
    "for regions in air_regions:\n",
    "    if (regions in ev_regions):\n",
    "        all_regions.append(regions)\n",
    "\n",
    "notin_air = []\n",
    "for regions in ev_regions:\n",
    "    if (regions not in air_regions):\n",
    "        notin_air.append(regions)"
   ]
  },
  {
   "cell_type": "code",
   "execution_count": 131,
   "metadata": {},
   "outputs": [
    {
     "data": {
      "text/plain": [
       "38"
      ]
     },
     "execution_count": 131,
     "metadata": {},
     "output_type": "execute_result"
    }
   ],
   "source": [
    "len(all_regions)"
   ]
  },
  {
   "cell_type": "code",
   "execution_count": 132,
   "metadata": {},
   "outputs": [
    {
     "data": {
      "text/plain": [
       "[]"
      ]
     },
     "execution_count": 132,
     "metadata": {},
     "output_type": "execute_result"
    }
   ],
   "source": [
    "notin_air"
   ]
  },
  {
   "cell_type": "code",
   "execution_count": 133,
   "metadata": {},
   "outputs": [],
   "source": [
    "pm2_5_clean = pm2_5_clean.reset_index()"
   ]
  },
  {
   "cell_type": "code",
   "execution_count": 138,
   "metadata": {},
   "outputs": [
    {
     "data": {
      "text/html": [
       "<div>\n",
       "<style scoped>\n",
       "    .dataframe tbody tr th:only-of-type {\n",
       "        vertical-align: middle;\n",
       "    }\n",
       "\n",
       "    .dataframe tbody tr th {\n",
       "        vertical-align: top;\n",
       "    }\n",
       "\n",
       "    .dataframe thead th {\n",
       "        text-align: right;\n",
       "    }\n",
       "</style>\n",
       "<table border=\"1\" class=\"dataframe\">\n",
       "  <thead>\n",
       "    <tr style=\"text-align: right;\">\n",
       "      <th></th>\n",
       "      <th>index</th>\n",
       "      <th>WHO Country Name</th>\n",
       "      <th>City or Locality</th>\n",
       "      <th>Measurement Year</th>\n",
       "      <th>PM2.5 (μg/m3)</th>\n",
       "      <th>PM25 temporal coverage (%)</th>\n",
       "    </tr>\n",
       "  </thead>\n",
       "  <tbody>\n",
       "    <tr>\n",
       "      <th>0</th>\n",
       "      <td>0</td>\n",
       "      <td>Afghanistan</td>\n",
       "      <td>Kabul</td>\n",
       "      <td>2019</td>\n",
       "      <td>119.77</td>\n",
       "      <td>18.0</td>\n",
       "    </tr>\n",
       "    <tr>\n",
       "      <th>1</th>\n",
       "      <td>2</td>\n",
       "      <td>Albania</td>\n",
       "      <td>Durres</td>\n",
       "      <td>2016</td>\n",
       "      <td>14.32</td>\n",
       "      <td>NaN</td>\n",
       "    </tr>\n",
       "    <tr>\n",
       "      <th>2</th>\n",
       "      <td>6</td>\n",
       "      <td>Albania</td>\n",
       "      <td>Korce</td>\n",
       "      <td>2015</td>\n",
       "      <td>30.34</td>\n",
       "      <td>NaN</td>\n",
       "    </tr>\n",
       "    <tr>\n",
       "      <th>3</th>\n",
       "      <td>7</td>\n",
       "      <td>Albania</td>\n",
       "      <td>Korce</td>\n",
       "      <td>2016</td>\n",
       "      <td>28.64</td>\n",
       "      <td>NaN</td>\n",
       "    </tr>\n",
       "    <tr>\n",
       "      <th>4</th>\n",
       "      <td>11</td>\n",
       "      <td>Albania</td>\n",
       "      <td>Vlore</td>\n",
       "      <td>2019</td>\n",
       "      <td>10.32</td>\n",
       "      <td>NaN</td>\n",
       "    </tr>\n",
       "    <tr>\n",
       "      <th>...</th>\n",
       "      <td>...</td>\n",
       "      <td>...</td>\n",
       "      <td>...</td>\n",
       "      <td>...</td>\n",
       "      <td>...</td>\n",
       "      <td>...</td>\n",
       "    </tr>\n",
       "    <tr>\n",
       "      <th>15043</th>\n",
       "      <td>32183</td>\n",
       "      <td>South Africa</td>\n",
       "      <td>Waterberg</td>\n",
       "      <td>2021</td>\n",
       "      <td>18.86</td>\n",
       "      <td>75.0</td>\n",
       "    </tr>\n",
       "    <tr>\n",
       "      <th>15044</th>\n",
       "      <td>32186</td>\n",
       "      <td>South Africa</td>\n",
       "      <td>West Coast</td>\n",
       "      <td>2015</td>\n",
       "      <td>7.47</td>\n",
       "      <td>75.0</td>\n",
       "    </tr>\n",
       "    <tr>\n",
       "      <th>15045</th>\n",
       "      <td>32187</td>\n",
       "      <td>South Africa</td>\n",
       "      <td>West Coast</td>\n",
       "      <td>2016</td>\n",
       "      <td>8.42</td>\n",
       "      <td>75.0</td>\n",
       "    </tr>\n",
       "    <tr>\n",
       "      <th>15046</th>\n",
       "      <td>32188</td>\n",
       "      <td>South Africa</td>\n",
       "      <td>West Coast</td>\n",
       "      <td>2017</td>\n",
       "      <td>6.83</td>\n",
       "      <td>75.0</td>\n",
       "    </tr>\n",
       "    <tr>\n",
       "      <th>15047</th>\n",
       "      <td>32189</td>\n",
       "      <td>South Africa</td>\n",
       "      <td>West Coast</td>\n",
       "      <td>2018</td>\n",
       "      <td>6.10</td>\n",
       "      <td>75.0</td>\n",
       "    </tr>\n",
       "  </tbody>\n",
       "</table>\n",
       "<p>15048 rows × 6 columns</p>\n",
       "</div>"
      ],
      "text/plain": [
       "       index WHO Country Name City or Locality  Measurement Year  \\\n",
       "0          0      Afghanistan            Kabul              2019   \n",
       "1          2          Albania           Durres              2016   \n",
       "2          6          Albania            Korce              2015   \n",
       "3          7          Albania            Korce              2016   \n",
       "4         11          Albania            Vlore              2019   \n",
       "...      ...              ...              ...               ...   \n",
       "15043  32183     South Africa        Waterberg              2021   \n",
       "15044  32186     South Africa       West Coast              2015   \n",
       "15045  32187     South Africa       West Coast              2016   \n",
       "15046  32188     South Africa       West Coast              2017   \n",
       "15047  32189     South Africa       West Coast              2018   \n",
       "\n",
       "       PM2.5 (μg/m3)  PM25 temporal coverage (%)  \n",
       "0             119.77                        18.0  \n",
       "1              14.32                         NaN  \n",
       "2              30.34                         NaN  \n",
       "3              28.64                         NaN  \n",
       "4              10.32                         NaN  \n",
       "...              ...                         ...  \n",
       "15043          18.86                        75.0  \n",
       "15044           7.47                        75.0  \n",
       "15045           8.42                        75.0  \n",
       "15046           6.83                        75.0  \n",
       "15047           6.10                        75.0  \n",
       "\n",
       "[15048 rows x 6 columns]"
      ]
     },
     "execution_count": 138,
     "metadata": {},
     "output_type": "execute_result"
    }
   ],
   "source": [
    "pm2_5_clean"
   ]
  },
  {
   "cell_type": "code",
   "execution_count": 135,
   "metadata": {},
   "outputs": [
    {
     "data": {
      "text/plain": [
       "0        False\n",
       "1        False\n",
       "2        False\n",
       "3        False\n",
       "4        False\n",
       "         ...  \n",
       "15043    False\n",
       "15044    False\n",
       "15045    False\n",
       "15046    False\n",
       "15047    False\n",
       "Name: PM25 temporal coverage (%), Length: 15048, dtype: bool"
      ]
     },
     "execution_count": 135,
     "metadata": {},
     "output_type": "execute_result"
    }
   ],
   "source": [
    "(pm2_5_clean['PM25 temporal coverage (%)'] > 90)"
   ]
  },
  {
   "cell_type": "code",
   "execution_count": 136,
   "metadata": {},
   "outputs": [],
   "source": [
    "pm2_5_clean.to_csv(\"PM25_C1.csv\")"
   ]
  }
 ],
 "metadata": {
  "kernelspec": {
   "display_name": "Python 3",
   "language": "python",
   "name": "python3"
  },
  "language_info": {
   "codemirror_mode": {
    "name": "ipython",
    "version": 3
   },
   "file_extension": ".py",
   "mimetype": "text/x-python",
   "name": "python",
   "nbconvert_exporter": "python",
   "pygments_lexer": "ipython3",
   "version": "3.12.4"
  },
  "orig_nbformat": 4
 },
 "nbformat": 4,
 "nbformat_minor": 2
}
